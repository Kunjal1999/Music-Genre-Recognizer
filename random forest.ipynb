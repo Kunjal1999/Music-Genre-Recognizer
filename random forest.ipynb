{
 "cells": [
  {
   "cell_type": "code",
   "execution_count": 1,
   "metadata": {},
   "outputs": [],
   "source": [
    "import numpy as np\n",
    "import pandas as pd"
   ]
  },
  {
   "cell_type": "code",
   "execution_count": 2,
   "metadata": {},
   "outputs": [],
   "source": [
    "data = pd.read_csv('fma_metadata/features_dataset.csv')"
   ]
  },
  {
   "cell_type": "code",
   "execution_count": 3,
   "metadata": {},
   "outputs": [
    {
     "data": {
      "text/html": [
       "<div>\n",
       "<style scoped>\n",
       "    .dataframe tbody tr th:only-of-type {\n",
       "        vertical-align: middle;\n",
       "    }\n",
       "\n",
       "    .dataframe tbody tr th {\n",
       "        vertical-align: top;\n",
       "    }\n",
       "\n",
       "    .dataframe thead th {\n",
       "        text-align: right;\n",
       "    }\n",
       "</style>\n",
       "<table border=\"1\" class=\"dataframe\">\n",
       "  <thead>\n",
       "    <tr style=\"text-align: right;\">\n",
       "      <th></th>\n",
       "      <th>track_id</th>\n",
       "      <th>chroma_cens_kurtosis</th>\n",
       "      <th>chroma_cens_max</th>\n",
       "      <th>chroma_cens_mean</th>\n",
       "      <th>chroma_cens_median</th>\n",
       "      <th>chroma_cens_min</th>\n",
       "      <th>chroma_cens_skew</th>\n",
       "      <th>chroma_cens_std</th>\n",
       "      <th>chroma_cqt_kurtosis</th>\n",
       "      <th>chroma_cqt_max</th>\n",
       "      <th>...</th>\n",
       "      <th>tonnetz_skew</th>\n",
       "      <th>tonnetz_std</th>\n",
       "      <th>zcr_kurtosis</th>\n",
       "      <th>zcr_max</th>\n",
       "      <th>zcr_mean</th>\n",
       "      <th>zcr_median</th>\n",
       "      <th>zcr_min</th>\n",
       "      <th>zcr_skew</th>\n",
       "      <th>zcr_std</th>\n",
       "      <th>genre_top</th>\n",
       "    </tr>\n",
       "  </thead>\n",
       "  <tbody>\n",
       "    <tr>\n",
       "      <th>0</th>\n",
       "      <td>91062</td>\n",
       "      <td>-0.870</td>\n",
       "      <td>0.473</td>\n",
       "      <td>0.209</td>\n",
       "      <td>0.213</td>\n",
       "      <td>0.00000</td>\n",
       "      <td>-0.0496</td>\n",
       "      <td>0.1090</td>\n",
       "      <td>0.255</td>\n",
       "      <td>1.0</td>\n",
       "      <td>...</td>\n",
       "      <td>-0.0932</td>\n",
       "      <td>0.0252</td>\n",
       "      <td>49.600</td>\n",
       "      <td>0.351</td>\n",
       "      <td>0.0385</td>\n",
       "      <td>0.0356</td>\n",
       "      <td>0.00928</td>\n",
       "      <td>5.11</td>\n",
       "      <td>0.0188</td>\n",
       "      <td>4</td>\n",
       "    </tr>\n",
       "    <tr>\n",
       "      <th>1</th>\n",
       "      <td>16400</td>\n",
       "      <td>-0.486</td>\n",
       "      <td>0.529</td>\n",
       "      <td>0.270</td>\n",
       "      <td>0.262</td>\n",
       "      <td>0.00987</td>\n",
       "      <td>0.1260</td>\n",
       "      <td>0.0995</td>\n",
       "      <td>-0.724</td>\n",
       "      <td>1.0</td>\n",
       "      <td>...</td>\n",
       "      <td>-0.4250</td>\n",
       "      <td>0.0192</td>\n",
       "      <td>0.871</td>\n",
       "      <td>0.247</td>\n",
       "      <td>0.1150</td>\n",
       "      <td>0.1080</td>\n",
       "      <td>0.00000</td>\n",
       "      <td>0.93</td>\n",
       "      <td>0.0313</td>\n",
       "      <td>13</td>\n",
       "    </tr>\n",
       "    <tr>\n",
       "      <th>2</th>\n",
       "      <td>52860</td>\n",
       "      <td>2.060</td>\n",
       "      <td>0.469</td>\n",
       "      <td>0.254</td>\n",
       "      <td>0.239</td>\n",
       "      <td>0.02750</td>\n",
       "      <td>1.2400</td>\n",
       "      <td>0.0604</td>\n",
       "      <td>-0.218</td>\n",
       "      <td>1.0</td>\n",
       "      <td>...</td>\n",
       "      <td>-0.2070</td>\n",
       "      <td>0.0237</td>\n",
       "      <td>7.640</td>\n",
       "      <td>0.241</td>\n",
       "      <td>0.0870</td>\n",
       "      <td>0.0884</td>\n",
       "      <td>0.01760</td>\n",
       "      <td>-0.25</td>\n",
       "      <td>0.0128</td>\n",
       "      <td>7</td>\n",
       "    </tr>\n",
       "    <tr>\n",
       "      <th>3</th>\n",
       "      <td>87236</td>\n",
       "      <td>-0.376</td>\n",
       "      <td>0.556</td>\n",
       "      <td>0.294</td>\n",
       "      <td>0.285</td>\n",
       "      <td>0.03490</td>\n",
       "      <td>0.1870</td>\n",
       "      <td>0.0839</td>\n",
       "      <td>-1.020</td>\n",
       "      <td>1.0</td>\n",
       "      <td>...</td>\n",
       "      <td>0.2420</td>\n",
       "      <td>0.0233</td>\n",
       "      <td>9.530</td>\n",
       "      <td>0.705</td>\n",
       "      <td>0.1530</td>\n",
       "      <td>0.1440</td>\n",
       "      <td>0.01610</td>\n",
       "      <td>1.99</td>\n",
       "      <td>0.0624</td>\n",
       "      <td>4</td>\n",
       "    </tr>\n",
       "    <tr>\n",
       "      <th>4</th>\n",
       "      <td>21653</td>\n",
       "      <td>-0.341</td>\n",
       "      <td>0.623</td>\n",
       "      <td>0.224</td>\n",
       "      <td>0.213</td>\n",
       "      <td>0.00000</td>\n",
       "      <td>0.4950</td>\n",
       "      <td>0.1420</td>\n",
       "      <td>-0.672</td>\n",
       "      <td>1.0</td>\n",
       "      <td>...</td>\n",
       "      <td>-0.5560</td>\n",
       "      <td>0.0355</td>\n",
       "      <td>38.100</td>\n",
       "      <td>0.400</td>\n",
       "      <td>0.0444</td>\n",
       "      <td>0.0376</td>\n",
       "      <td>0.00000</td>\n",
       "      <td>4.85</td>\n",
       "      <td>0.0353</td>\n",
       "      <td>11</td>\n",
       "    </tr>\n",
       "  </tbody>\n",
       "</table>\n",
       "<p>5 rows × 79 columns</p>\n",
       "</div>"
      ],
      "text/plain": [
       "   track_id  chroma_cens_kurtosis  chroma_cens_max  chroma_cens_mean  \\\n",
       "0     91062                -0.870            0.473             0.209   \n",
       "1     16400                -0.486            0.529             0.270   \n",
       "2     52860                 2.060            0.469             0.254   \n",
       "3     87236                -0.376            0.556             0.294   \n",
       "4     21653                -0.341            0.623             0.224   \n",
       "\n",
       "   chroma_cens_median  chroma_cens_min  chroma_cens_skew  chroma_cens_std  \\\n",
       "0               0.213          0.00000           -0.0496           0.1090   \n",
       "1               0.262          0.00987            0.1260           0.0995   \n",
       "2               0.239          0.02750            1.2400           0.0604   \n",
       "3               0.285          0.03490            0.1870           0.0839   \n",
       "4               0.213          0.00000            0.4950           0.1420   \n",
       "\n",
       "   chroma_cqt_kurtosis  chroma_cqt_max  ...  tonnetz_skew  tonnetz_std  \\\n",
       "0                0.255             1.0  ...       -0.0932       0.0252   \n",
       "1               -0.724             1.0  ...       -0.4250       0.0192   \n",
       "2               -0.218             1.0  ...       -0.2070       0.0237   \n",
       "3               -1.020             1.0  ...        0.2420       0.0233   \n",
       "4               -0.672             1.0  ...       -0.5560       0.0355   \n",
       "\n",
       "   zcr_kurtosis  zcr_max  zcr_mean  zcr_median  zcr_min  zcr_skew  zcr_std  \\\n",
       "0        49.600    0.351    0.0385      0.0356  0.00928      5.11   0.0188   \n",
       "1         0.871    0.247    0.1150      0.1080  0.00000      0.93   0.0313   \n",
       "2         7.640    0.241    0.0870      0.0884  0.01760     -0.25   0.0128   \n",
       "3         9.530    0.705    0.1530      0.1440  0.01610      1.99   0.0624   \n",
       "4        38.100    0.400    0.0444      0.0376  0.00000      4.85   0.0353   \n",
       "\n",
       "   genre_top  \n",
       "0          4  \n",
       "1         13  \n",
       "2          7  \n",
       "3          4  \n",
       "4         11  \n",
       "\n",
       "[5 rows x 79 columns]"
      ]
     },
     "execution_count": 3,
     "metadata": {},
     "output_type": "execute_result"
    }
   ],
   "source": [
    "data.head()"
   ]
  },
  {
   "cell_type": "code",
   "execution_count": 5,
   "metadata": {},
   "outputs": [],
   "source": [
    "from sklearn.model_selection import train_test_split\n",
    "from sklearn.ensemble import RandomForestClassifier\n",
    "from sklearn.model_selection import GridSearchCV\n",
    "from sklearn.metrics import classification_report"
   ]
  },
  {
   "cell_type": "code",
   "execution_count": 10,
   "metadata": {},
   "outputs": [],
   "source": [
    "X = data.drop(['track_id','genre_top'],axis=1)\n",
    "y = data['genre_top']\n",
    "X_train, X_test, y_train, y_test = train_test_split(X, y, test_size=0.3)"
   ]
  },
  {
   "cell_type": "code",
   "execution_count": 6,
   "metadata": {},
   "outputs": [],
   "source": [
    "params = {\n",
    "    'n_estimators':[100,200,300,350,400]\n",
    "}"
   ]
  },
  {
   "cell_type": "code",
   "execution_count": 7,
   "metadata": {},
   "outputs": [],
   "source": [
    "grid = GridSearchCV(RandomForestClassifier(),params,verbose=2)"
   ]
  },
  {
   "cell_type": "code",
   "execution_count": 11,
   "metadata": {},
   "outputs": [
    {
     "name": "stdout",
     "output_type": "stream",
     "text": [
      "Fitting 5 folds for each of 5 candidates, totalling 25 fits\n",
      "[CV] n_estimators=100 ................................................\n"
     ]
    },
    {
     "name": "stderr",
     "output_type": "stream",
     "text": [
      "[Parallel(n_jobs=1)]: Using backend SequentialBackend with 1 concurrent workers.\n"
     ]
    },
    {
     "name": "stdout",
     "output_type": "stream",
     "text": [
      "[CV] ................................. n_estimators=100, total=   3.7s\n",
      "[CV] n_estimators=100 ................................................\n"
     ]
    },
    {
     "name": "stderr",
     "output_type": "stream",
     "text": [
      "[Parallel(n_jobs=1)]: Done   1 out of   1 | elapsed:    3.7s remaining:    0.0s\n"
     ]
    },
    {
     "name": "stdout",
     "output_type": "stream",
     "text": [
      "[CV] ................................. n_estimators=100, total=   3.7s\n",
      "[CV] n_estimators=100 ................................................\n",
      "[CV] ................................. n_estimators=100, total=   3.6s\n",
      "[CV] n_estimators=100 ................................................\n",
      "[CV] ................................. n_estimators=100, total=   3.6s\n",
      "[CV] n_estimators=100 ................................................\n",
      "[CV] ................................. n_estimators=100, total=   3.6s\n",
      "[CV] n_estimators=200 ................................................\n",
      "[CV] ................................. n_estimators=200, total=   7.2s\n",
      "[CV] n_estimators=200 ................................................\n",
      "[CV] ................................. n_estimators=200, total=   7.2s\n",
      "[CV] n_estimators=200 ................................................\n",
      "[CV] ................................. n_estimators=200, total=   7.3s\n",
      "[CV] n_estimators=200 ................................................\n",
      "[CV] ................................. n_estimators=200, total=   7.2s\n",
      "[CV] n_estimators=200 ................................................\n",
      "[CV] ................................. n_estimators=200, total=   7.3s\n",
      "[CV] n_estimators=300 ................................................\n",
      "[CV] ................................. n_estimators=300, total=  11.1s\n",
      "[CV] n_estimators=300 ................................................\n",
      "[CV] ................................. n_estimators=300, total=  10.9s\n",
      "[CV] n_estimators=300 ................................................\n",
      "[CV] ................................. n_estimators=300, total=  10.8s\n",
      "[CV] n_estimators=300 ................................................\n",
      "[CV] ................................. n_estimators=300, total=  10.9s\n",
      "[CV] n_estimators=300 ................................................\n",
      "[CV] ................................. n_estimators=300, total=  10.9s\n",
      "[CV] n_estimators=350 ................................................\n",
      "[CV] ................................. n_estimators=350, total=  12.8s\n",
      "[CV] n_estimators=350 ................................................\n",
      "[CV] ................................. n_estimators=350, total=  12.7s\n",
      "[CV] n_estimators=350 ................................................\n",
      "[CV] ................................. n_estimators=350, total=  12.6s\n",
      "[CV] n_estimators=350 ................................................\n",
      "[CV] ................................. n_estimators=350, total=  12.6s\n",
      "[CV] n_estimators=350 ................................................\n",
      "[CV] ................................. n_estimators=350, total=  12.7s\n",
      "[CV] n_estimators=400 ................................................\n",
      "[CV] ................................. n_estimators=400, total=  14.5s\n",
      "[CV] n_estimators=400 ................................................\n",
      "[CV] ................................. n_estimators=400, total=  14.4s\n",
      "[CV] n_estimators=400 ................................................\n",
      "[CV] ................................. n_estimators=400, total=  14.5s\n",
      "[CV] n_estimators=400 ................................................\n",
      "[CV] ................................. n_estimators=400, total=  14.4s\n",
      "[CV] n_estimators=400 ................................................\n",
      "[CV] ................................. n_estimators=400, total=  14.7s\n"
     ]
    },
    {
     "name": "stderr",
     "output_type": "stream",
     "text": [
      "[Parallel(n_jobs=1)]: Done  25 out of  25 | elapsed:  4.1min finished\n"
     ]
    },
    {
     "data": {
      "text/plain": [
       "GridSearchCV(cv=None, error_score=nan,\n",
       "             estimator=RandomForestClassifier(bootstrap=True, ccp_alpha=0.0,\n",
       "                                              class_weight=None,\n",
       "                                              criterion='gini', max_depth=None,\n",
       "                                              max_features='auto',\n",
       "                                              max_leaf_nodes=None,\n",
       "                                              max_samples=None,\n",
       "                                              min_impurity_decrease=0.0,\n",
       "                                              min_impurity_split=None,\n",
       "                                              min_samples_leaf=1,\n",
       "                                              min_samples_split=2,\n",
       "                                              min_weight_fraction_leaf=0.0,\n",
       "                                              n_estimators=100, n_jobs=None,\n",
       "                                              oob_score=False,\n",
       "                                              random_state=None, verbose=0,\n",
       "                                              warm_start=False),\n",
       "             iid='deprecated', n_jobs=None,\n",
       "             param_grid={'n_estimators': [100, 200, 300, 350, 400]},\n",
       "             pre_dispatch='2*n_jobs', refit=True, return_train_score=False,\n",
       "             scoring=None, verbose=2)"
      ]
     },
     "execution_count": 11,
     "metadata": {},
     "output_type": "execute_result"
    }
   ],
   "source": [
    "grid.fit(X_train,y_train)"
   ]
  },
  {
   "cell_type": "code",
   "execution_count": 12,
   "metadata": {},
   "outputs": [
    {
     "data": {
      "text/plain": [
       "{'n_estimators': 350}"
      ]
     },
     "execution_count": 12,
     "metadata": {},
     "output_type": "execute_result"
    }
   ],
   "source": [
    "grid.best_params_"
   ]
  },
  {
   "cell_type": "code",
   "execution_count": 13,
   "metadata": {},
   "outputs": [],
   "source": [
    "preds = grid.predict(X_test)"
   ]
  },
  {
   "cell_type": "code",
   "execution_count": 14,
   "metadata": {},
   "outputs": [
    {
     "name": "stdout",
     "output_type": "stream",
     "text": [
      "              precision    recall  f1-score   support\n",
      "\n",
      "           0       0.00      0.00      0.00        14\n",
      "           1       0.88      0.38      0.53        37\n",
      "           2       0.64      0.21      0.32       219\n",
      "           3       1.00      0.06      0.12        64\n",
      "           4       0.56      0.71      0.63       754\n",
      "           5       0.65      0.82      0.73       959\n",
      "           6       0.93      0.24      0.38       114\n",
      "           7       0.50      0.66      0.57       693\n",
      "           8       0.77      0.12      0.21        83\n",
      "           9       0.89      0.83      0.86       170\n",
      "          10       0.68      0.33      0.44       166\n",
      "          11       0.75      0.02      0.04       162\n",
      "          12       1.00      0.38      0.55         8\n",
      "          13       0.89      0.95      0.92        93\n",
      "          14       0.00      0.00      0.00        18\n",
      "          15       0.00      0.00      0.00         2\n",
      "\n",
      "    accuracy                           0.61      3556\n",
      "   macro avg       0.63      0.36      0.39      3556\n",
      "weighted avg       0.64      0.61      0.57      3556\n",
      "\n"
     ]
    },
    {
     "name": "stderr",
     "output_type": "stream",
     "text": [
      "/Library/Frameworks/Python.framework/Versions/3.6/lib/python3.6/site-packages/sklearn/metrics/_classification.py:1268: UndefinedMetricWarning: Precision and F-score are ill-defined and being set to 0.0 in labels with no predicted samples. Use `zero_division` parameter to control this behavior.\n",
      "  _warn_prf(average, modifier, msg_start, len(result))\n"
     ]
    }
   ],
   "source": [
    "print(classification_report(y_test,preds))"
   ]
  },
  {
   "cell_type": "code",
   "execution_count": null,
   "metadata": {},
   "outputs": [],
   "source": []
  }
 ],
 "metadata": {
  "kernelspec": {
   "display_name": "Python 3.6.8 64-bit",
   "language": "python",
   "name": "python36864bit808004b91bd74de482c7a28e46d03816"
  },
  "language_info": {
   "codemirror_mode": {
    "name": "ipython",
    "version": 3
   },
   "file_extension": ".py",
   "mimetype": "text/x-python",
   "name": "python",
   "nbconvert_exporter": "python",
   "pygments_lexer": "ipython3",
   "version": "3.6.8"
  }
 },
 "nbformat": 4,
 "nbformat_minor": 2
}
