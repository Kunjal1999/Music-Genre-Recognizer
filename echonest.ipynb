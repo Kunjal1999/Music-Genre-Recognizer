{
 "cells": [
  {
   "cell_type": "code",
   "execution_count": 106,
   "metadata": {},
   "outputs": [],
   "source": [
    "import pandas as pd\n",
    "import numpy as np\n",
    "import seaborn as sns\n",
    "import matplotlib.pyplot as plt"
   ]
  },
  {
   "cell_type": "code",
   "execution_count": 38,
   "metadata": {},
   "outputs": [],
   "source": [
    "data = pd.read_csv('fma_metadata/echonest.csv')"
   ]
  },
  {
   "cell_type": "code",
   "execution_count": 39,
   "metadata": {},
   "outputs": [
    {
     "data": {
      "text/html": [
       "<div>\n",
       "<style scoped>\n",
       "    .dataframe tbody tr th:only-of-type {\n",
       "        vertical-align: middle;\n",
       "    }\n",
       "\n",
       "    .dataframe tbody tr th {\n",
       "        vertical-align: top;\n",
       "    }\n",
       "\n",
       "    .dataframe thead th {\n",
       "        text-align: right;\n",
       "    }\n",
       "</style>\n",
       "<table border=\"1\" class=\"dataframe\">\n",
       "  <thead>\n",
       "    <tr style=\"text-align: right;\">\n",
       "      <th></th>\n",
       "      <th>acousticness</th>\n",
       "      <th>danceability</th>\n",
       "      <th>energy</th>\n",
       "      <th>instrumentalness</th>\n",
       "      <th>liveness</th>\n",
       "      <th>speechiness</th>\n",
       "      <th>tempo</th>\n",
       "      <th>valence</th>\n",
       "      <th>track_id</th>\n",
       "    </tr>\n",
       "  </thead>\n",
       "  <tbody>\n",
       "    <tr>\n",
       "      <th>0</th>\n",
       "      <td>0.416675</td>\n",
       "      <td>0.675894</td>\n",
       "      <td>0.634476</td>\n",
       "      <td>0.010628</td>\n",
       "      <td>0.177647</td>\n",
       "      <td>0.159310</td>\n",
       "      <td>165.922</td>\n",
       "      <td>0.576661</td>\n",
       "      <td>2.0</td>\n",
       "    </tr>\n",
       "    <tr>\n",
       "      <th>1</th>\n",
       "      <td>0.374408</td>\n",
       "      <td>0.528643</td>\n",
       "      <td>0.817461</td>\n",
       "      <td>0.001851</td>\n",
       "      <td>0.105880</td>\n",
       "      <td>0.461818</td>\n",
       "      <td>126.957</td>\n",
       "      <td>0.269240</td>\n",
       "      <td>3.0</td>\n",
       "    </tr>\n",
       "    <tr>\n",
       "      <th>2</th>\n",
       "      <td>0.043567</td>\n",
       "      <td>0.745566</td>\n",
       "      <td>0.701470</td>\n",
       "      <td>0.000697</td>\n",
       "      <td>0.373143</td>\n",
       "      <td>0.124595</td>\n",
       "      <td>100.260</td>\n",
       "      <td>0.621661</td>\n",
       "      <td>5.0</td>\n",
       "    </tr>\n",
       "    <tr>\n",
       "      <th>3</th>\n",
       "      <td>0.951670</td>\n",
       "      <td>0.658179</td>\n",
       "      <td>0.924525</td>\n",
       "      <td>0.965427</td>\n",
       "      <td>0.115474</td>\n",
       "      <td>0.032985</td>\n",
       "      <td>111.562</td>\n",
       "      <td>0.963590</td>\n",
       "      <td>10.0</td>\n",
       "    </tr>\n",
       "    <tr>\n",
       "      <th>4</th>\n",
       "      <td>0.452217</td>\n",
       "      <td>0.513238</td>\n",
       "      <td>0.560410</td>\n",
       "      <td>0.019443</td>\n",
       "      <td>0.096567</td>\n",
       "      <td>0.525519</td>\n",
       "      <td>114.290</td>\n",
       "      <td>0.894072</td>\n",
       "      <td>134.0</td>\n",
       "    </tr>\n",
       "  </tbody>\n",
       "</table>\n",
       "</div>"
      ],
      "text/plain": [
       "   acousticness  danceability    energy  instrumentalness  liveness  \\\n",
       "0      0.416675      0.675894  0.634476          0.010628  0.177647   \n",
       "1      0.374408      0.528643  0.817461          0.001851  0.105880   \n",
       "2      0.043567      0.745566  0.701470          0.000697  0.373143   \n",
       "3      0.951670      0.658179  0.924525          0.965427  0.115474   \n",
       "4      0.452217      0.513238  0.560410          0.019443  0.096567   \n",
       "\n",
       "   speechiness    tempo   valence  track_id  \n",
       "0     0.159310  165.922  0.576661       2.0  \n",
       "1     0.461818  126.957  0.269240       3.0  \n",
       "2     0.124595  100.260  0.621661       5.0  \n",
       "3     0.032985  111.562  0.963590      10.0  \n",
       "4     0.525519  114.290  0.894072     134.0  "
      ]
     },
     "execution_count": 39,
     "metadata": {},
     "output_type": "execute_result"
    }
   ],
   "source": [
    "data.head()"
   ]
  },
  {
   "cell_type": "code",
   "execution_count": 40,
   "metadata": {},
   "outputs": [
    {
     "name": "stdout",
     "output_type": "stream",
     "text": [
      "<class 'pandas.core.frame.DataFrame'>\n",
      "RangeIndex: 14511 entries, 0 to 14510\n",
      "Data columns (total 9 columns):\n",
      "acousticness        13129 non-null float64\n",
      "danceability        13129 non-null float64\n",
      "energy              13129 non-null float64\n",
      "instrumentalness    13129 non-null float64\n",
      "liveness            13129 non-null float64\n",
      "speechiness         13129 non-null float64\n",
      "tempo               13129 non-null float64\n",
      "valence             13129 non-null float64\n",
      "track_id            13129 non-null float64\n",
      "dtypes: float64(9)\n",
      "memory usage: 1020.4 KB\n"
     ]
    }
   ],
   "source": [
    "data.info()"
   ]
  },
  {
   "cell_type": "code",
   "execution_count": 51,
   "metadata": {},
   "outputs": [],
   "source": [
    "data.dropna(inplace=True)"
   ]
  },
  {
   "cell_type": "code",
   "execution_count": 55,
   "metadata": {},
   "outputs": [
    {
     "name": "stderr",
     "output_type": "stream",
     "text": [
      "/Users/saifkazi/Library/Python/3.6/lib/python/site-packages/IPython/core/interactiveshell.py:3051: DtypeWarning: Columns (0,1,2,6,7,12,15,16,17,21,22,23,24,25,26,27,28,29,30,31,32,33,34,35,36,37,38,39,40,41,42,43,44,45,46,47,48,49,50,51,52,53,54,55,56,57,58,59,60,61,62,63,64,65,66,67,68,69,70,71) have mixed types. Specify dtype option on import or set low_memory=False.\n",
      "  interactivity=interactivity, compiler=compiler, result=result)\n"
     ]
    }
   ],
   "source": [
    "tracks = pd.read_csv('fma_metadata/tracks_dataset.csv')"
   ]
  },
  {
   "cell_type": "code",
   "execution_count": 57,
   "metadata": {},
   "outputs": [],
   "source": [
    "tracks = tracks[['track_id','genre_top']]"
   ]
  },
  {
   "cell_type": "code",
   "execution_count": 59,
   "metadata": {},
   "outputs": [
    {
     "name": "stdout",
     "output_type": "stream",
     "text": [
      "<class 'pandas.core.frame.DataFrame'>\n",
      "RangeIndex: 136641 entries, 0 to 136640\n",
      "Data columns (total 2 columns):\n",
      "track_id     136553 non-null object\n",
      "genre_top    49638 non-null object\n",
      "dtypes: object(2)\n",
      "memory usage: 2.1+ MB\n"
     ]
    }
   ],
   "source": [
    "tracks.info()"
   ]
  },
  {
   "cell_type": "code",
   "execution_count": 83,
   "metadata": {},
   "outputs": [],
   "source": [
    "df = pd.merge(data,tracks,how='left',on='track_id')"
   ]
  },
  {
   "cell_type": "code",
   "execution_count": 84,
   "metadata": {},
   "outputs": [],
   "source": [
    "df1 = df[df['genre_top'].isnull()==False]"
   ]
  },
  {
   "cell_type": "code",
   "execution_count": 94,
   "metadata": {},
   "outputs": [],
   "source": [
    "genre_labels = list(df1['genre_top'].unique())"
   ]
  },
  {
   "cell_type": "code",
   "execution_count": 97,
   "metadata": {},
   "outputs": [],
   "source": [
    "genres = dict()\n",
    "for i,genre in enumerate(genre_labels):\n",
    "    genres[genre] = i"
   ]
  },
  {
   "cell_type": "code",
   "execution_count": 98,
   "metadata": {},
   "outputs": [
    {
     "data": {
      "text/plain": [
       "{'Hip-Hop': 0,\n",
       " 'Jazz': 1,\n",
       " 'Rock': 2,\n",
       " 'Electronic': 3,\n",
       " 'Instrumental': 4,\n",
       " 'Classical': 5,\n",
       " 'Folk': 6,\n",
       " 'Blues': 7,\n",
       " 'Pop': 8,\n",
       " 'International': 9,\n",
       " 'Old-Time / Historic': 10}"
      ]
     },
     "execution_count": 98,
     "metadata": {},
     "output_type": "execute_result"
    }
   ],
   "source": [
    "genres"
   ]
  },
  {
   "cell_type": "code",
   "execution_count": 101,
   "metadata": {},
   "outputs": [
    {
     "name": "stderr",
     "output_type": "stream",
     "text": [
      "/Users/saifkazi/Library/Python/3.6/lib/python/site-packages/ipykernel_launcher.py:1: SettingWithCopyWarning: \n",
      "A value is trying to be set on a copy of a slice from a DataFrame.\n",
      "Try using .loc[row_indexer,col_indexer] = value instead\n",
      "\n",
      "See the caveats in the documentation: http://pandas.pydata.org/pandas-docs/stable/user_guide/indexing.html#returning-a-view-versus-a-copy\n",
      "  \"\"\"Entry point for launching an IPython kernel.\n"
     ]
    }
   ],
   "source": [
    "df1['genre_top']=df1['genre_top'].map(genres)"
   ]
  },
  {
   "cell_type": "code",
   "execution_count": 102,
   "metadata": {},
   "outputs": [
    {
     "data": {
      "text/html": [
       "<div>\n",
       "<style scoped>\n",
       "    .dataframe tbody tr th:only-of-type {\n",
       "        vertical-align: middle;\n",
       "    }\n",
       "\n",
       "    .dataframe tbody tr th {\n",
       "        vertical-align: top;\n",
       "    }\n",
       "\n",
       "    .dataframe thead th {\n",
       "        text-align: right;\n",
       "    }\n",
       "</style>\n",
       "<table border=\"1\" class=\"dataframe\">\n",
       "  <thead>\n",
       "    <tr style=\"text-align: right;\">\n",
       "      <th></th>\n",
       "      <th>acousticness</th>\n",
       "      <th>danceability</th>\n",
       "      <th>energy</th>\n",
       "      <th>instrumentalness</th>\n",
       "      <th>liveness</th>\n",
       "      <th>speechiness</th>\n",
       "      <th>tempo</th>\n",
       "      <th>valence</th>\n",
       "      <th>track_id</th>\n",
       "      <th>genre_top</th>\n",
       "    </tr>\n",
       "  </thead>\n",
       "  <tbody>\n",
       "    <tr>\n",
       "      <th>3710</th>\n",
       "      <td>0.995649</td>\n",
       "      <td>0.394599</td>\n",
       "      <td>0.089494</td>\n",
       "      <td>0.883401</td>\n",
       "      <td>0.146451</td>\n",
       "      <td>0.039721</td>\n",
       "      <td>109.461</td>\n",
       "      <td>0.068221</td>\n",
       "      <td>14051</td>\n",
       "      <td>0</td>\n",
       "    </tr>\n",
       "    <tr>\n",
       "      <th>3711</th>\n",
       "      <td>0.010028</td>\n",
       "      <td>0.674203</td>\n",
       "      <td>0.680239</td>\n",
       "      <td>0.914485</td>\n",
       "      <td>0.299501</td>\n",
       "      <td>0.440051</td>\n",
       "      <td>119.964</td>\n",
       "      <td>0.249854</td>\n",
       "      <td>14052</td>\n",
       "      <td>0</td>\n",
       "    </tr>\n",
       "    <tr>\n",
       "      <th>3712</th>\n",
       "      <td>0.335639</td>\n",
       "      <td>0.483271</td>\n",
       "      <td>0.895392</td>\n",
       "      <td>0.532255</td>\n",
       "      <td>0.132961</td>\n",
       "      <td>0.039678</td>\n",
       "      <td>182.014</td>\n",
       "      <td>0.541889</td>\n",
       "      <td>14053</td>\n",
       "      <td>1</td>\n",
       "    </tr>\n",
       "    <tr>\n",
       "      <th>3713</th>\n",
       "      <td>0.622499</td>\n",
       "      <td>0.692986</td>\n",
       "      <td>0.661026</td>\n",
       "      <td>0.905211</td>\n",
       "      <td>0.313500</td>\n",
       "      <td>0.027691</td>\n",
       "      <td>109.962</td>\n",
       "      <td>0.800987</td>\n",
       "      <td>14054</td>\n",
       "      <td>1</td>\n",
       "    </tr>\n",
       "    <tr>\n",
       "      <th>3714</th>\n",
       "      <td>0.013479</td>\n",
       "      <td>0.577701</td>\n",
       "      <td>0.844099</td>\n",
       "      <td>0.527882</td>\n",
       "      <td>0.096912</td>\n",
       "      <td>0.040110</td>\n",
       "      <td>143.983</td>\n",
       "      <td>0.116108</td>\n",
       "      <td>14055</td>\n",
       "      <td>1</td>\n",
       "    </tr>\n",
       "  </tbody>\n",
       "</table>\n",
       "</div>"
      ],
      "text/plain": [
       "      acousticness  danceability    energy  instrumentalness  liveness  \\\n",
       "3710      0.995649      0.394599  0.089494          0.883401  0.146451   \n",
       "3711      0.010028      0.674203  0.680239          0.914485  0.299501   \n",
       "3712      0.335639      0.483271  0.895392          0.532255  0.132961   \n",
       "3713      0.622499      0.692986  0.661026          0.905211  0.313500   \n",
       "3714      0.013479      0.577701  0.844099          0.527882  0.096912   \n",
       "\n",
       "      speechiness    tempo   valence track_id  genre_top  \n",
       "3710     0.039721  109.461  0.068221    14051          0  \n",
       "3711     0.440051  119.964  0.249854    14052          0  \n",
       "3712     0.039678  182.014  0.541889    14053          1  \n",
       "3713     0.027691  109.962  0.800987    14054          1  \n",
       "3714     0.040110  143.983  0.116108    14055          1  "
      ]
     },
     "execution_count": 102,
     "metadata": {},
     "output_type": "execute_result"
    }
   ],
   "source": [
    "df1.head()"
   ]
  },
  {
   "cell_type": "code",
   "execution_count": 103,
   "metadata": {},
   "outputs": [
    {
     "data": {
      "text/plain": [
       "2     854\n",
       "3     655\n",
       "10    273\n",
       "0     264\n",
       "6     123\n",
       "1      80\n",
       "5      77\n",
       "8      56\n",
       "4      33\n",
       "7      20\n",
       "9      19\n",
       "Name: genre_top, dtype: int64"
      ]
     },
     "execution_count": 103,
     "metadata": {},
     "output_type": "execute_result"
    }
   ],
   "source": [
    "df1['genre_top'].value_counts()"
   ]
  },
  {
   "cell_type": "code",
   "execution_count": 111,
   "metadata": {},
   "outputs": [],
   "source": [
    "from sklearn.model_selection import train_test_split\n",
    "from sklearn.neighbors import KNeighborsClassifier\n",
    "from sklearn.svm import SVC\n",
    "from sklearn.metrics import classification_report,confusion_matrix"
   ]
  },
  {
   "cell_type": "code",
   "execution_count": 140,
   "metadata": {},
   "outputs": [],
   "source": [
    "X = df1.drop(['track_id','genre_top'],axis=1)\n",
    "y = df1['genre_top']\n",
    "X_train, X_test, y_train, y_test = train_test_split(X, y, test_size=0.3)"
   ]
  },
  {
   "cell_type": "code",
   "execution_count": 141,
   "metadata": {},
   "outputs": [],
   "source": [
    "error_rates = list()\n",
    "for i in range(1,40):\n",
    "    knn = KNeighborsClassifier(i)\n",
    "    knn.fit(X_train,y_train)\n",
    "    predictions = knn.predict(X_test)\n",
    "    error_rates.append(np.mean(y_test!=predictions))"
   ]
  },
  {
   "cell_type": "code",
   "execution_count": 142,
   "metadata": {},
   "outputs": [
    {
     "data": {
      "text/plain": [
       "Text(0, 0.5, 'Error rates')"
      ]
     },
     "execution_count": 142,
     "metadata": {},
     "output_type": "execute_result"
    },
    {
     "data": {
      "image/png": "[encoded data removed]",
      "text/plain": [
       "<Figure size 864x432 with 1 Axes>"
      ]
     },
     "metadata": {
      "needs_background": "light"
     },
     "output_type": "display_data"
    }
   ],
   "source": [
    "plt.figure(figsize=(12,6))\n",
    "plt.plot(range(1,40),error_rates,marker='o',markersize=8,markerfacecolor='red')\n",
    "plt.title('Error rates vs K values')\n",
    "plt.xlabel('K values')\n",
    "plt.ylabel('Error rates')"
   ]
  },
  {
   "cell_type": "code",
   "execution_count": 143,
   "metadata": {},
   "outputs": [],
   "source": [
    "knn = KNeighborsClassifier(25)\n",
    "knn.fit(X_train,y_train)\n",
    "knn_pred = knn.predict(X_test)"
   ]
  },
  {
   "cell_type": "code",
   "execution_count": 144,
   "metadata": {},
   "outputs": [
    {
     "name": "stdout",
     "output_type": "stream",
     "text": [
      "              precision    recall  f1-score   support\n",
      "\n",
      "           0       0.14      0.03      0.04        75\n",
      "           1       0.00      0.00      0.00        22\n",
      "           2       0.39      0.73      0.51       267\n",
      "           3       0.30      0.34      0.32       193\n",
      "           4       0.00      0.00      0.00        16\n",
      "           5       0.00      0.00      0.00        22\n",
      "           6       0.00      0.00      0.00        40\n",
      "           7       0.00      0.00      0.00         6\n",
      "           8       0.00      0.00      0.00         9\n",
      "           9       0.00      0.00      0.00         6\n",
      "          10       0.25      0.01      0.02        81\n",
      "\n",
      "    accuracy                           0.36       737\n",
      "   macro avg       0.10      0.10      0.08       737\n",
      "weighted avg       0.26      0.36      0.28       737\n",
      "\n"
     ]
    },
    {
     "name": "stderr",
     "output_type": "stream",
     "text": [
      "/Library/Frameworks/Python.framework/Versions/3.6/lib/python3.6/site-packages/sklearn/metrics/_classification.py:1268: UndefinedMetricWarning: Precision and F-score are ill-defined and being set to 0.0 in labels with no predicted samples. Use `zero_division` parameter to control this behavior.\n",
      "  _warn_prf(average, modifier, msg_start, len(result))\n"
     ]
    }
   ],
   "source": [
    "print(classification_report(y_test,knn_pred))"
   ]
  },
  {
   "cell_type": "code",
   "execution_count": 149,
   "metadata": {},
   "outputs": [],
   "source": [
    "svm = SVC(decision_function_shape='ovo')"
   ]
  },
  {
   "cell_type": "code",
   "execution_count": 150,
   "metadata": {},
   "outputs": [
    {
     "data": {
      "text/plain": [
       "SVC(C=1.0, break_ties=False, cache_size=200, class_weight=None, coef0=0.0,\n",
       "    decision_function_shape='ovo', degree=3, gamma='scale', kernel='rbf',\n",
       "    max_iter=-1, probability=False, random_state=None, shrinking=True,\n",
       "    tol=0.001, verbose=False)"
      ]
     },
     "execution_count": 150,
     "metadata": {},
     "output_type": "execute_result"
    }
   ],
   "source": [
    "svm.fit(X_train,y_train)"
   ]
  },
  {
   "cell_type": "code",
   "execution_count": 151,
   "metadata": {},
   "outputs": [],
   "source": [
    "svm_pred = svm.predict(X_test)"
   ]
  },
  {
   "cell_type": "code",
   "execution_count": 152,
   "metadata": {},
   "outputs": [
    {
     "name": "stdout",
     "output_type": "stream",
     "text": [
      "              precision    recall  f1-score   support\n",
      "\n",
      "           0       0.00      0.00      0.00        75\n",
      "           1       0.00      0.00      0.00        22\n",
      "           2       0.36      1.00      0.53       267\n",
      "           3       0.00      0.00      0.00       193\n",
      "           4       0.00      0.00      0.00        16\n",
      "           5       0.00      0.00      0.00        22\n",
      "           6       0.00      0.00      0.00        40\n",
      "           7       0.00      0.00      0.00         6\n",
      "           8       0.00      0.00      0.00         9\n",
      "           9       0.00      0.00      0.00         6\n",
      "          10       0.00      0.00      0.00        81\n",
      "\n",
      "    accuracy                           0.36       737\n",
      "   macro avg       0.03      0.09      0.05       737\n",
      "weighted avg       0.13      0.36      0.19       737\n",
      "\n"
     ]
    },
    {
     "name": "stderr",
     "output_type": "stream",
     "text": [
      "/Library/Frameworks/Python.framework/Versions/3.6/lib/python3.6/site-packages/sklearn/metrics/_classification.py:1268: UndefinedMetricWarning: Precision and F-score are ill-defined and being set to 0.0 in labels with no predicted samples. Use `zero_division` parameter to control this behavior.\n",
      "  _warn_prf(average, modifier, msg_start, len(result))\n"
     ]
    }
   ],
   "source": [
    "print(classification_report(y_test,svm_pred))"
   ]
  },
  {
   "cell_type": "code",
   "execution_count": null,
   "metadata": {},
   "outputs": [],
   "source": []
  }
 ],
 "metadata": {
  "kernelspec": {
   "display_name": "Python 3.6.8 64-bit",
   "language": "python",
   "name": "python36864bit808004b91bd74de482c7a28e46d03816"
  },
  "language_info": {
   "codemirror_mode": {
    "name": "ipython",
    "version": 3
   },
   "file_extension": ".py",
   "mimetype": "text/x-python",
   "name": "python",
   "nbconvert_exporter": "python",
   "pygments_lexer": "ipython3",
   "version": "3.6.8"
  }
 },
 "nbformat": 4,
 "nbformat_minor": 2
}
